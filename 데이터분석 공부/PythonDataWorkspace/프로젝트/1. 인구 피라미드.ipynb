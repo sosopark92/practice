{
 "cells": [
  {
   "cell_type": "markdown",
   "id": "b0d26119",
   "metadata": {},
   "source": [
    "# 1. 인구 피라미드"
   ]
  },
  {
   "cell_type": "markdown",
   "id": "622062b7",
   "metadata": {},
   "source": [
    "## 남자 데이터 정의"
   ]
  },
  {
   "cell_type": "code",
   "execution_count": 1,
   "id": "40973a00",
   "metadata": {},
   "outputs": [
    {
     "name": "stderr",
     "output_type": "stream",
     "text": [
      "C:\\Users\\SAMSUNG\\anaconda3\\lib\\site-packages\\openpyxl\\styles\\stylesheet.py:221: UserWarning: Workbook contains no default style, apply openpyxl's default\n",
      "  warn(\"Workbook contains no default style, apply openpyxl's default\")\n"
     ]
    },
    {
     "data": {
      "text/html": [
       "<div>\n",
       "<style scoped>\n",
       "    .dataframe tbody tr th:only-of-type {\n",
       "        vertical-align: middle;\n",
       "    }\n",
       "\n",
       "    .dataframe tbody tr th {\n",
       "        vertical-align: top;\n",
       "    }\n",
       "\n",
       "    .dataframe thead th {\n",
       "        text-align: right;\n",
       "    }\n",
       "</style>\n",
       "<table border=\"1\" class=\"dataframe\">\n",
       "  <thead>\n",
       "    <tr style=\"text-align: right;\">\n",
       "      <th></th>\n",
       "      <th>0~4세</th>\n",
       "      <th>5~9세</th>\n",
       "      <th>10~14세</th>\n",
       "      <th>15~19세</th>\n",
       "      <th>20~24세</th>\n",
       "      <th>25~29세</th>\n",
       "      <th>30~34세</th>\n",
       "      <th>35~39세</th>\n",
       "      <th>40~44세</th>\n",
       "      <th>45~49세</th>\n",
       "      <th>...</th>\n",
       "      <th>55~59세</th>\n",
       "      <th>60~64세</th>\n",
       "      <th>65~69세</th>\n",
       "      <th>70~74세</th>\n",
       "      <th>75~79세</th>\n",
       "      <th>80~84세</th>\n",
       "      <th>85~89세</th>\n",
       "      <th>90~94세</th>\n",
       "      <th>95~99세</th>\n",
       "      <th>100세 이상</th>\n",
       "    </tr>\n",
       "    <tr>\n",
       "      <th>행정기관</th>\n",
       "      <th></th>\n",
       "      <th></th>\n",
       "      <th></th>\n",
       "      <th></th>\n",
       "      <th></th>\n",
       "      <th></th>\n",
       "      <th></th>\n",
       "      <th></th>\n",
       "      <th></th>\n",
       "      <th></th>\n",
       "      <th></th>\n",
       "      <th></th>\n",
       "      <th></th>\n",
       "      <th></th>\n",
       "      <th></th>\n",
       "      <th></th>\n",
       "      <th></th>\n",
       "      <th></th>\n",
       "      <th></th>\n",
       "      <th></th>\n",
       "      <th></th>\n",
       "    </tr>\n",
       "  </thead>\n",
       "  <tbody>\n",
       "    <tr>\n",
       "      <th>전국</th>\n",
       "      <td>807,150</td>\n",
       "      <td>1,154,806</td>\n",
       "      <td>1,215,483</td>\n",
       "      <td>1,229,848</td>\n",
       "      <td>1,652,371</td>\n",
       "      <td>1,875,014</td>\n",
       "      <td>1,655,155</td>\n",
       "      <td>1,829,373</td>\n",
       "      <td>2,024,616</td>\n",
       "      <td>2,139,842</td>\n",
       "      <td>...</td>\n",
       "      <td>2,075,439</td>\n",
       "      <td>2,039,854</td>\n",
       "      <td>1,423,351</td>\n",
       "      <td>982,527</td>\n",
       "      <td>691,904</td>\n",
       "      <td>448,750</td>\n",
       "      <td>189,426</td>\n",
       "      <td>47,982</td>\n",
       "      <td>9,047</td>\n",
       "      <td>2,230</td>\n",
       "    </tr>\n",
       "    <tr>\n",
       "      <th>서울특별시</th>\n",
       "      <td>129,766</td>\n",
       "      <td>176,433</td>\n",
       "      <td>189,993</td>\n",
       "      <td>201,088</td>\n",
       "      <td>292,214</td>\n",
       "      <td>402,129</td>\n",
       "      <td>364,322</td>\n",
       "      <td>358,270</td>\n",
       "      <td>362,416</td>\n",
       "      <td>377,526</td>\n",
       "      <td>...</td>\n",
       "      <td>348,510</td>\n",
       "      <td>346,019</td>\n",
       "      <td>257,783</td>\n",
       "      <td>183,490</td>\n",
       "      <td>133,498</td>\n",
       "      <td>81,360</td>\n",
       "      <td>31,954</td>\n",
       "      <td>8,564</td>\n",
       "      <td>1,819</td>\n",
       "      <td>623</td>\n",
       "    </tr>\n",
       "    <tr>\n",
       "      <th>부산광역시</th>\n",
       "      <td>46,491</td>\n",
       "      <td>68,329</td>\n",
       "      <td>68,191</td>\n",
       "      <td>69,493</td>\n",
       "      <td>102,324</td>\n",
       "      <td>116,387</td>\n",
       "      <td>99,345</td>\n",
       "      <td>110,248</td>\n",
       "      <td>125,965</td>\n",
       "      <td>128,387</td>\n",
       "      <td>...</td>\n",
       "      <td>132,304</td>\n",
       "      <td>145,246</td>\n",
       "      <td>112,633</td>\n",
       "      <td>79,465</td>\n",
       "      <td>53,942</td>\n",
       "      <td>32,142</td>\n",
       "      <td>11,705</td>\n",
       "      <td>2,744</td>\n",
       "      <td>442</td>\n",
       "      <td>147</td>\n",
       "    </tr>\n",
       "  </tbody>\n",
       "</table>\n",
       "<p>3 rows × 21 columns</p>\n",
       "</div>"
      ],
      "text/plain": [
       "            0~4세       5~9세     10~14세     15~19세     20~24세     25~29세  \\\n",
       "행정기관                                                                      \n",
       "전국       807,150  1,154,806  1,215,483  1,229,848  1,652,371  1,875,014   \n",
       "서울특별시    129,766    176,433    189,993    201,088    292,214    402,129   \n",
       "부산광역시     46,491     68,329     68,191     69,493    102,324    116,387   \n",
       "\n",
       "            30~34세     35~39세     40~44세     45~49세  ...     55~59세  \\\n",
       "행정기관                                                 ...              \n",
       "전국       1,655,155  1,829,373  2,024,616  2,139,842  ...  2,075,439   \n",
       "서울특별시      364,322    358,270    362,416    377,526  ...    348,510   \n",
       "부산광역시       99,345    110,248    125,965    128,387  ...    132,304   \n",
       "\n",
       "            60~64세     65~69세   70~74세   75~79세   80~84세   85~89세  90~94세  \\\n",
       "행정기관                                                                        \n",
       "전국       2,039,854  1,423,351  982,527  691,904  448,750  189,426  47,982   \n",
       "서울특별시      346,019    257,783  183,490  133,498   81,360   31,954   8,564   \n",
       "부산광역시      145,246    112,633   79,465   53,942   32,142   11,705   2,744   \n",
       "\n",
       "        95~99세 100세 이상  \n",
       "행정기관                    \n",
       "전국       9,047   2,230  \n",
       "서울특별시    1,819     623  \n",
       "부산광역시      442     147  \n",
       "\n",
       "[3 rows x 21 columns]"
      ]
     },
     "execution_count": 1,
     "metadata": {},
     "output_type": "execute_result"
    }
   ],
   "source": [
    "import pandas as pd\n",
    "df_m = pd.read_excel('202108_202108_연령별인구현황_월간.xlsx', skiprows=3, index_col='행정기관', usecols='B, E:Y')\n",
    "df_m.head(3)"
   ]
  },
  {
   "cell_type": "code",
   "execution_count": 2,
   "id": "417c7456",
   "metadata": {},
   "outputs": [],
   "source": [
    "df_m.iloc[0] = df_m.iloc[0].str.replace(',','').astype(int) #1,195,951 > 1195951 (정수형)"
   ]
  },
  {
   "cell_type": "code",
   "execution_count": 3,
   "id": "1660bc25",
   "metadata": {},
   "outputs": [
    {
     "data": {
      "text/plain": [
       "0~4세        807150\n",
       "5~9세       1154806\n",
       "10~14세     1215483\n",
       "15~19세     1229848\n",
       "20~24세     1652371\n",
       "25~29세     1875014\n",
       "30~34세     1655155\n",
       "35~39세     1829373\n",
       "40~44세     2024616\n",
       "45~49세     2139842\n",
       "50~54세     2271863\n",
       "55~59세     2075439\n",
       "60~64세     2039854\n",
       "65~69세     1423351\n",
       "70~74세      982527\n",
       "75~79세      691904\n",
       "80~84세      448750\n",
       "85~89세      189426\n",
       "90~94세       47982\n",
       "95~99세        9047\n",
       "100세 이상       2230\n",
       "Name: 전국  , dtype: object"
      ]
     },
     "execution_count": 3,
     "metadata": {},
     "output_type": "execute_result"
    }
   ],
   "source": [
    "df_m.iloc[0]"
   ]
  },
  {
   "cell_type": "markdown",
   "id": "2b889c51",
   "metadata": {},
   "source": [
    "## 여자 데이터 정의"
   ]
  },
  {
   "cell_type": "code",
   "execution_count": 4,
   "id": "ac201a47",
   "metadata": {},
   "outputs": [
    {
     "name": "stderr",
     "output_type": "stream",
     "text": [
      "C:\\Users\\SAMSUNG\\anaconda3\\lib\\site-packages\\openpyxl\\styles\\stylesheet.py:221: UserWarning: Workbook contains no default style, apply openpyxl's default\n",
      "  warn(\"Workbook contains no default style, apply openpyxl's default\")\n"
     ]
    },
    {
     "data": {
      "text/html": [
       "<div>\n",
       "<style scoped>\n",
       "    .dataframe tbody tr th:only-of-type {\n",
       "        vertical-align: middle;\n",
       "    }\n",
       "\n",
       "    .dataframe tbody tr th {\n",
       "        vertical-align: top;\n",
       "    }\n",
       "\n",
       "    .dataframe thead th {\n",
       "        text-align: right;\n",
       "    }\n",
       "</style>\n",
       "<table border=\"1\" class=\"dataframe\">\n",
       "  <thead>\n",
       "    <tr style=\"text-align: right;\">\n",
       "      <th></th>\n",
       "      <th>0~4세.1</th>\n",
       "      <th>5~9세.1</th>\n",
       "      <th>10~14세.1</th>\n",
       "      <th>15~19세.1</th>\n",
       "      <th>20~24세.1</th>\n",
       "      <th>25~29세.1</th>\n",
       "      <th>30~34세.1</th>\n",
       "      <th>35~39세.1</th>\n",
       "      <th>40~44세.1</th>\n",
       "      <th>45~49세.1</th>\n",
       "      <th>...</th>\n",
       "      <th>55~59세.1</th>\n",
       "      <th>60~64세.1</th>\n",
       "      <th>65~69세.1</th>\n",
       "      <th>70~74세.1</th>\n",
       "      <th>75~79세.1</th>\n",
       "      <th>80~84세.1</th>\n",
       "      <th>85~89세.1</th>\n",
       "      <th>90~94세.1</th>\n",
       "      <th>95~99세.1</th>\n",
       "      <th>100세 이상.1</th>\n",
       "    </tr>\n",
       "    <tr>\n",
       "      <th>행정기관</th>\n",
       "      <th></th>\n",
       "      <th></th>\n",
       "      <th></th>\n",
       "      <th></th>\n",
       "      <th></th>\n",
       "      <th></th>\n",
       "      <th></th>\n",
       "      <th></th>\n",
       "      <th></th>\n",
       "      <th></th>\n",
       "      <th></th>\n",
       "      <th></th>\n",
       "      <th></th>\n",
       "      <th></th>\n",
       "      <th></th>\n",
       "      <th></th>\n",
       "      <th></th>\n",
       "      <th></th>\n",
       "      <th></th>\n",
       "      <th></th>\n",
       "      <th></th>\n",
       "    </tr>\n",
       "  </thead>\n",
       "  <tbody>\n",
       "    <tr>\n",
       "      <th>전국</th>\n",
       "      <td>765,718</td>\n",
       "      <td>1,099,511</td>\n",
       "      <td>1,146,252</td>\n",
       "      <td>1,142,146</td>\n",
       "      <td>1,521,873</td>\n",
       "      <td>1,672,118</td>\n",
       "      <td>1,523,976</td>\n",
       "      <td>1,744,685</td>\n",
       "      <td>1,954,674</td>\n",
       "      <td>2,073,661</td>\n",
       "      <td>...</td>\n",
       "      <td>2,020,720</td>\n",
       "      <td>2,084,814</td>\n",
       "      <td>1,523,981</td>\n",
       "      <td>1,119,798</td>\n",
       "      <td>908,817</td>\n",
       "      <td>731,836</td>\n",
       "      <td>429,062</td>\n",
       "      <td>163,137</td>\n",
       "      <td>37,655</td>\n",
       "      <td>8,705</td>\n",
       "    </tr>\n",
       "    <tr>\n",
       "      <th>서울특별시</th>\n",
       "      <td>122,200</td>\n",
       "      <td>168,049</td>\n",
       "      <td>179,786</td>\n",
       "      <td>192,489</td>\n",
       "      <td>322,918</td>\n",
       "      <td>422,032</td>\n",
       "      <td>365,483</td>\n",
       "      <td>358,167</td>\n",
       "      <td>368,511</td>\n",
       "      <td>384,837</td>\n",
       "      <td>...</td>\n",
       "      <td>359,036</td>\n",
       "      <td>381,456</td>\n",
       "      <td>292,733</td>\n",
       "      <td>215,754</td>\n",
       "      <td>163,571</td>\n",
       "      <td>113,723</td>\n",
       "      <td>61,339</td>\n",
       "      <td>24,590</td>\n",
       "      <td>6,093</td>\n",
       "      <td>1,893</td>\n",
       "    </tr>\n",
       "    <tr>\n",
       "      <th>부산광역시</th>\n",
       "      <td>44,214</td>\n",
       "      <td>64,756</td>\n",
       "      <td>64,561</td>\n",
       "      <td>64,967</td>\n",
       "      <td>96,558</td>\n",
       "      <td>105,853</td>\n",
       "      <td>93,317</td>\n",
       "      <td>106,076</td>\n",
       "      <td>122,036</td>\n",
       "      <td>127,847</td>\n",
       "      <td>...</td>\n",
       "      <td>140,679</td>\n",
       "      <td>161,288</td>\n",
       "      <td>126,921</td>\n",
       "      <td>93,874</td>\n",
       "      <td>68,059</td>\n",
       "      <td>50,639</td>\n",
       "      <td>26,473</td>\n",
       "      <td>9,739</td>\n",
       "      <td>2,095</td>\n",
       "      <td>605</td>\n",
       "    </tr>\n",
       "  </tbody>\n",
       "</table>\n",
       "<p>3 rows × 21 columns</p>\n",
       "</div>"
      ],
      "text/plain": [
       "          0~4세.1     5~9세.1   10~14세.1   15~19세.1   20~24세.1   25~29세.1  \\\n",
       "행정기관                                                                      \n",
       "전국       765,718  1,099,511  1,146,252  1,142,146  1,521,873  1,672,118   \n",
       "서울특별시    122,200    168,049    179,786    192,489    322,918    422,032   \n",
       "부산광역시     44,214     64,756     64,561     64,967     96,558    105,853   \n",
       "\n",
       "          30~34세.1   35~39세.1   40~44세.1   45~49세.1  ...   55~59세.1  \\\n",
       "행정기관                                                 ...              \n",
       "전국       1,523,976  1,744,685  1,954,674  2,073,661  ...  2,020,720   \n",
       "서울특별시      365,483    358,167    368,511    384,837  ...    359,036   \n",
       "부산광역시       93,317    106,076    122,036    127,847  ...    140,679   \n",
       "\n",
       "          60~64세.1   65~69세.1   70~74세.1 75~79세.1 80~84세.1 85~89세.1 90~94세.1  \\\n",
       "행정기관                                                                           \n",
       "전국       2,084,814  1,523,981  1,119,798  908,817  731,836  429,062  163,137   \n",
       "서울특별시      381,456    292,733    215,754  163,571  113,723   61,339   24,590   \n",
       "부산광역시      161,288    126,921     93,874   68,059   50,639   26,473    9,739   \n",
       "\n",
       "        95~99세.1 100세 이상.1  \n",
       "행정기관                        \n",
       "전국        37,655     8,705  \n",
       "서울특별시      6,093     1,893  \n",
       "부산광역시      2,095       605  \n",
       "\n",
       "[3 rows x 21 columns]"
      ]
     },
     "execution_count": 4,
     "metadata": {},
     "output_type": "execute_result"
    }
   ],
   "source": [
    "df_w = pd.read_excel('202108_202108_연령별인구현황_월간.xlsx', skiprows=3, index_col='행정기관', usecols='B, AB:AV')\n",
    "df_w.head(3)"
   ]
  },
  {
   "cell_type": "code",
   "execution_count": 5,
   "id": "3d92f6d0",
   "metadata": {},
   "outputs": [
    {
     "data": {
      "text/plain": [
       "Index(['0~4세', '5~9세', '10~14세', '15~19세', '20~24세', '25~29세', '30~34세',\n",
       "       '35~39세', '40~44세', '45~49세', '50~54세', '55~59세', '60~64세', '65~69세',\n",
       "       '70~74세', '75~79세', '80~84세', '85~89세', '90~94세', '95~99세', '100세 이상'],\n",
       "      dtype='object')"
      ]
     },
     "execution_count": 5,
     "metadata": {},
     "output_type": "execute_result"
    }
   ],
   "source": [
    "df_m.columns"
   ]
  },
  {
   "cell_type": "code",
   "execution_count": 6,
   "id": "1646d733",
   "metadata": {},
   "outputs": [
    {
     "data": {
      "text/plain": [
       "Index(['0~4세.1', '5~9세.1', '10~14세.1', '15~19세.1', '20~24세.1', '25~29세.1',\n",
       "       '30~34세.1', '35~39세.1', '40~44세.1', '45~49세.1', '50~54세.1', '55~59세.1',\n",
       "       '60~64세.1', '65~69세.1', '70~74세.1', '75~79세.1', '80~84세.1', '85~89세.1',\n",
       "       '90~94세.1', '95~99세.1', '100세 이상.1'],\n",
       "      dtype='object')"
      ]
     },
     "execution_count": 6,
     "metadata": {},
     "output_type": "execute_result"
    }
   ],
   "source": [
    "df_w.columns"
   ]
  },
  {
   "cell_type": "code",
   "execution_count": 7,
   "id": "1f85e5f3",
   "metadata": {},
   "outputs": [
    {
     "data": {
      "text/plain": [
       "Index(['0~4세', '5~9세', '10~14세', '15~19세', '20~24세', '25~29세', '30~34세',\n",
       "       '35~39세', '40~44세', '45~49세', '50~54세', '55~59세', '60~64세', '65~69세',\n",
       "       '70~74세', '75~79세', '80~84세', '85~89세', '90~94세', '95~99세', '100세 이상'],\n",
       "      dtype='object')"
      ]
     },
     "execution_count": 7,
     "metadata": {},
     "output_type": "execute_result"
    }
   ],
   "source": [
    "df_w.columns = df_m.columns # Column 이름 통일\n",
    "df_w.columns"
   ]
  },
  {
   "cell_type": "code",
   "execution_count": 8,
   "id": "c2cef55b",
   "metadata": {},
   "outputs": [],
   "source": [
    "df_w.iloc[0] = df_w.iloc[0].str.replace(',','').astype(int) # 정수형 변환"
   ]
  },
  {
   "cell_type": "code",
   "execution_count": 9,
   "id": "e18e0127",
   "metadata": {},
   "outputs": [
    {
     "data": {
      "text/plain": [
       "0~4세        765718\n",
       "5~9세       1099511\n",
       "10~14세     1146252\n",
       "15~19세     1142146\n",
       "20~24세     1521873\n",
       "25~29세     1672118\n",
       "30~34세     1523976\n",
       "35~39세     1744685\n",
       "40~44세     1954674\n",
       "45~49세     2073661\n",
       "50~54세     2230546\n",
       "55~59세     2020720\n",
       "60~64세     2084814\n",
       "65~69세     1523981\n",
       "70~74세     1119798\n",
       "75~79세      908817\n",
       "80~84세      731836\n",
       "85~89세      429062\n",
       "90~94세      163137\n",
       "95~99세       37655\n",
       "100세 이상       8705\n",
       "Name: 전국  , dtype: object"
      ]
     },
     "execution_count": 9,
     "metadata": {},
     "output_type": "execute_result"
    }
   ],
   "source": [
    "df_w.iloc[0]"
   ]
  },
  {
   "cell_type": "markdown",
   "id": "cc559134",
   "metadata": {},
   "source": [
    "## 데이터 시각화"
   ]
  },
  {
   "cell_type": "code",
   "execution_count": 10,
   "id": "1c5555af",
   "metadata": {},
   "outputs": [],
   "source": [
    "import matplotlib.pyplot as plt\n",
    "import matplotlib\n",
    "matplotlib.rcParams['font.family'] = 'Malgun Gothic'\n",
    "matplotlib.rcParams['font.size'] = 15\n",
    "matplotlib.rcParams['axes.unicode_minus']=False"
   ]
  },
  {
   "cell_type": "code",
   "execution_count": 11,
   "id": "5bb929d8",
   "metadata": {},
   "outputs": [
    {
     "data": {
      "image/png": "[encoded data removed]",
      "text/plain": [
       "<Figure size 720x504 with 1 Axes>"
      ]
     },
     "metadata": {
      "needs_background": "light"
     },
     "output_type": "display_data"
    }
   ],
   "source": [
    "# 남자 데이터\n",
    "plt.figure(figsize=(10,7))\n",
    "plt.title('2021년 대한민국 인구 피라미드')\n",
    "plt.barh(df_m.columns, -df_m.iloc[0] // 1000) # 단위 1000명 기준\n",
    "plt.barh(df_w.columns, df_w.iloc[0] // 1000) # 단위 1000명 기준\n",
    "plt.savefig('2021년_인구피라미드.png',dpi=100)\n",
    "plt.show()"
   ]
  },
  {
   "cell_type": "code",
   "execution_count": null,
   "id": "12313186",
   "metadata": {},
   "outputs": [],
   "source": []
  },
  {
   "cell_type": "code",
   "execution_count": null,
   "id": "710c5cde",
   "metadata": {},
   "outputs": [],
   "source": []
  }
 ],
 "metadata": {
  "kernelspec": {
   "display_name": "Python 3",
   "language": "python",
   "name": "python3"
  },
  "language_info": {
   "codemirror_mode": {
    "name": "ipython",
    "version": 3
   },
   "file_extension": ".py",
   "mimetype": "text/x-python",
   "name": "python",
   "nbconvert_exporter": "python",
   "pygments_lexer": "ipython3",
   "version": "3.8.8"
  }
 },
 "nbformat": 4,
 "nbformat_minor": 5
}
